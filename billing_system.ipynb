{
 "cells": [
  {
   "cell_type": "code",
   "execution_count": 3,
   "metadata": {
    "collapsed": false
   },
   "outputs": [],
   "source": [
    "import mysql.connector as ms\n",
    "import numpy as np\n",
    "import pandas as pd\n",
    "import prettytable as pt\n",
    "from prettytable import PrettyTable"
   ]
  },
  {
   "cell_type": "code",
   "execution_count": 17,
   "metadata": {
    "collapsed": false
   },
   "outputs": [
    {
     "name": "stdout",
     "output_type": "stream",
     "text": [
      "<mysql.connector.connection.MySQLConnection object at 0x0000018B43031710>\n"
     ]
    }
   ],
   "source": [
    "conn=ms.connect(host='localhost',port=int(3306),user='root',passwd='Pavanreyan@7',db='billing_system')\n",
    "print(conn)"
   ]
  },
  {
   "cell_type": "code",
   "execution_count": 19,
   "metadata": {
    "collapsed": false
   },
   "outputs": [
    {
     "name": "stdout",
     "output_type": "stream",
     "text": [
      "[('Stockid', 'int(11)', 'NO', 'PRI', None, ''), ('Productid', 'int(11)', 'NO', '', None, ''), ('Quantity', 'float', 'NO', '', None, '')]\n"
     ]
    }
   ],
   "source": [
    "cursor = conn.cursor()\n",
    "#cursor.execute(\"INSERT INTO user values (3,'Vaishnavi Sharma','Pimpri',8668567554,'vaishnavisharmavs7@gmail.com','Vashnavi Stores')\")\n",
    "cursor.execute(\"describe stock\")\n",
    "user1 = cursor.fetchall()\n",
    "print(user1)"
   ]
  },
  {
   "cell_type": "code",
   "execution_count": 7,
   "metadata": {
    "collapsed": true
   },
   "outputs": [],
   "source": [
    "def show_customers():\n",
    "    cursor = conn.cursor()\n",
    "    cursor.execute(\"Select * from customer\")\n",
    "    show = cursor.fetchall()\n",
    "    l = show\n",
    "    table = PrettyTable(['Phone Number','ID', 'Name', 'Email'])\n",
    "\n",
    "    for rec in l:\n",
    "        table.add_row(rec)\n",
    "    \n",
    "    print(table)\n"
   ]
  },
  {
   "cell_type": "code",
   "execution_count": 8,
   "metadata": {
    "collapsed": true
   },
   "outputs": [],
   "source": [
    "def add_customers():\n",
    "    try:\n",
    "        \n",
    "        id1 = int(input(\"Enter the id:\\n\"))\n",
    "        name = str(input(\"Enter a name:\\n\"))\n",
    "        email = str(input(\"Enter email:\\n\"))\n",
    "        cursor = conn.cursor()\n",
    "        cursor.execute(\"Insert into customer (CPhone,Customerid,Cname,email) values ({},{},'{}','{}');\".format(number,id1,name,email))\n",
    "        conn.commit()\n",
    "    except Exception as e:print(\"Exception-----------------------\",e)\n",
    "    else:\n",
    "        print(\"Customer added sucessfully!\")"
   ]
  },
  {
   "cell_type": "code",
   "execution_count": 9,
   "metadata": {
    "collapsed": true
   },
   "outputs": [],
   "source": [
    "def delete_customer():\n",
    "    try:\n",
    "        id1 = int(input(\"Enter the id of the Customer you want to delete:\\n\"))\n",
    "        cursor = conn.cursor()\n",
    "        query = \"\"\"Delete from customer where Customerid = %s \"\"\"\n",
    "        cursor.execute(query, (id1,))\n",
    "        conn.commit()\n",
    "    except Exception as e:print(\"Exception-----------------------\",e)\n",
    "    else:\n",
    "        print(\"Customer deleted sucessfully!\")"
   ]
  },
  {
   "cell_type": "code",
   "execution_count": 10,
   "metadata": {
    "collapsed": false
   },
   "outputs": [],
   "source": [
    "def add_product():\n",
    "    try:\n",
    "        pid = int(input(\"Enter the id:\\n\"))\n",
    "        pname = str(input(\"Enter a name:\\n\"))\n",
    "        prate = float(input(\"Enter Product Rate:\\n\"))\n",
    "        cursor = conn.cursor()\n",
    "        cursor.execute(\"Insert into products (Productid,Pname,Prate) values ({},'{}',{});\".format(pid,pname,prate))\n",
    "        conn.commit()\n",
    "    except Exception as e:\n",
    "        print(\"Exception-----------------------\",e)\n",
    "    else:\n",
    "        print(\"Product added sucessfully!\")\n"
   ]
  },
  {
   "cell_type": "code",
   "execution_count": 11,
   "metadata": {
    "collapsed": false
   },
   "outputs": [],
   "source": [
    "def show_products():\n",
    "    cursor = conn.cursor()\n",
    "    cursor.execute(\"Select * from products\")\n",
    "    show = cursor.fetchall()\n",
    "    l = show\n",
    "    table = PrettyTable(['ID', 'Name', 'Rate/packet(or kg)'])\n",
    "\n",
    "    for rec in l:\n",
    "        table.add_row(rec)\n",
    "    \n",
    "    print(table)\n"
   ]
  },
  {
   "cell_type": "code",
   "execution_count": 12,
   "metadata": {
    "collapsed": false
   },
   "outputs": [],
   "source": [
    "def delete_product():\n",
    "    try:\n",
    "        id1 = int(input(\"Enter the id of the Product you want to delete:\\n\"))\n",
    "        cursor = conn.cursor()\n",
    "        query = \"\"\"Delete from products where Productid = %s \"\"\"\n",
    "        cursor.execute(query, (id1,))\n",
    "        conn.commit()\n",
    "    except Exception as e:print(\"Exception-----------------------\",e)\n",
    "    else:\n",
    "        print(\"Product deleted sucessfully!\")\n"
   ]
  },
  {
   "cell_type": "code",
   "execution_count": 13,
   "metadata": {
    "collapsed": false
   },
   "outputs": [],
   "source": [
    "def add_offer():\n",
    "    try:\n",
    "        oid = int(input(\"Enter the offer id:\\n\"))\n",
    "        discount = float(input(\"Enter discount percentage:\\n\"))\n",
    "        duration = str(input(\"Enter Offer duration:\\n\"))\n",
    "        cursor = conn.cursor()\n",
    "        cursor.execute(\"Insert into offer (Offerid,discount,duration) values ({},{},'{}');\".format(oid,discount,duration))\n",
    "        conn.commit()\n",
    "    except Exception as e:\n",
    "        print(\"Exception-----------------------\",e)\n",
    "    else:\n",
    "        print(\"Offer added sucessfully!\")\n"
   ]
  },
  {
   "cell_type": "code",
   "execution_count": 14,
   "metadata": {
    "collapsed": false
   },
   "outputs": [],
   "source": [
    "def show_offers():\n",
    "    cursor = conn.cursor()\n",
    "    cursor.execute(\"Select * from offer\")\n",
    "    show = cursor.fetchall()\n",
    "    l = show\n",
    "    table = PrettyTable(['ID', 'Discount', 'Duration'])\n",
    "\n",
    "    for rec in l:\n",
    "        table.add_row(rec)\n",
    "    \n",
    "    print(table)\n"
   ]
  },
  {
   "cell_type": "code",
   "execution_count": 15,
   "metadata": {
    "collapsed": false
   },
   "outputs": [],
   "source": [
    "def delete_offer():\n",
    "    try:\n",
    "        id1 = int(input(\"Enter the id of the Offer you want to delete:\\n\"))\n",
    "        cursor = conn.cursor()\n",
    "        query = \"\"\"Delete from offer where Offerid = %s \"\"\"\n",
    "        cursor.execute(query, (id1,))\n",
    "        conn.commit()\n",
    "    except Exception as e:print(\"Exception-----------------------\",e)\n",
    "    else:\n",
    "        print(\"Offer deleted sucessfully!\")\n"
   ]
  },
  {
   "cell_type": "code",
   "execution_count": 18,
   "metadata": {
    "collapsed": false
   },
   "outputs": [
    {
     "name": "stdout",
     "output_type": "stream",
     "text": [
      "Menu-\n",
      "1 Customer\n",
      "2 Products\n",
      "3 Offer\n",
      "4 Stock\n",
      "5 Invoice\n",
      "6 History\n",
      "7 Exit\n",
      "Enter the number of your choice from the menu\n",
      "1\n",
      "1 Add Customer \n",
      "2 Show Customers\n",
      "3 Delete existing customer\n",
      "Enter the number of your choice from the menu\n",
      "2\n",
      "hii\n",
      "+--------------+----+------------------+------------------------------+\n",
      "| Phone Number | ID |       Name       |            Email             |\n",
      "+--------------+----+------------------+------------------------------+\n",
      "|  8668567554  | 1  | Vaishnavi Sharma | vaishnavisharmavs7@gmail.com |\n",
      "+--------------+----+------------------+------------------------------+\n",
      "Menu-\n",
      "1 Customer\n",
      "2 Products\n",
      "3 Offer\n",
      "4 Stock\n",
      "5 Invoice\n",
      "6 History\n",
      "7 Exit\n",
      "Enter the number of your choice from the menu\n",
      "7\n",
      "Exiting the system.......\n",
      "Exited Sucessfully!\n"
     ]
    }
   ],
   "source": [
    "while(1):\n",
    "    print(\"Menu-\\n1 Customer\\n2 Products\\n3 Offer\\n4 Stock\\n5 Invoice\\n6 History\\n7 Exit\")\n",
    "    a = int(input(\"Enter the number of your choice from the menu\\n\"))\n",
    "    if (a==7):\n",
    "        print(\"Exiting the system.......\\nExited Sucessfully!\")\n",
    "        break;\n",
    "    d = {1:{1:'1 Add Customer',2:'2 Show Customers',3:'3 Delete existing customer'},2:{1:'1 Add Product',2:'2 Show Products',3:'3 Delete existing Product'},3:{1:'1 Add Offer',2:'2 Show Offers',3:'3 Delete existing Offer'},4:{1:'1 Add Stock',2:'2 Show Stock',3:'3 Delete existing Stock'},5:{1:'1 Generate Invoice',2:'2 Show Invoice',3:' '},6:{1:'1 Day-wise',2:'2 Month-wise',3:'3 Year-wise'}}\n",
    "    if a in d:\n",
    "        b,c,d= d[a].values()\n",
    "        print(b,'\\n'+c+'\\n'\n",
    "              +d)\n",
    "    p = int(input(\"Enter the number of your choice from the menu\\n\"))\n",
    "\n",
    "    d1 = {1:{1:add_customers,2:show_customers,3:delete_customer},2:{1:add_product,2:show_products,3:delete_product},3:{1:add_offer,2:show_offers,3:delete_offer}}\n",
    "    if a in d1:\n",
    "        if p in d1[a]:\n",
    "            print(\"hii\")\n",
    "            d1[a][p]()\n",
    "    \n",
    "\n",
    "\n"
   ]
  },
  {
   "cell_type": "code",
   "execution_count": 5,
   "metadata": {
    "collapsed": false
   },
   "outputs": [],
   "source": [
    "conn.close()"
   ]
  },
  {
   "cell_type": "code",
   "execution_count": 29,
   "metadata": {
    "collapsed": false
   },
   "outputs": [
    {
     "name": "stdout",
     "output_type": "stream",
     "text": [
      "[(2, 'Vaishnavi', 'vaishnavisharmavs7@gmail.com', 8668567554), (3, 'Pratiksha', 'pratiksha77@gmail.com', 8874124501), (1, 'Sakshi', 'sakshi7@gmail.com', 9987414102)]\n"
     ]
    }
   ],
   "source": [
    "cursor = conn.cursor()\n",
    "cursor.execute(\"Select * from customer\")\n",
    "user1 = cursor.fetchall()\n",
    "print(user1)"
   ]
  },
  {
   "cell_type": "code",
   "execution_count": 6,
   "metadata": {
    "collapsed": false
   },
   "outputs": [],
   "source": [
    "d1 = {1:{1:add_customers,2:show_customers}}\n",
    "if "
   ]
  },
  {
   "cell_type": "code",
   "execution_count": null,
   "metadata": {
    "collapsed": true
   },
   "outputs": [],
   "source": []
  }
 ],
 "metadata": {
  "kernelspec": {
   "display_name": "Python 3",
   "language": "python",
   "name": "python3"
  },
  "language_info": {
   "codemirror_mode": {
    "name": "ipython",
    "version": 3
   },
   "file_extension": ".py",
   "mimetype": "text/x-python",
   "name": "python",
   "nbconvert_exporter": "python",
   "pygments_lexer": "ipython3",
   "version": "3.6.0"
  }
 },
 "nbformat": 4,
 "nbformat_minor": 2
}
